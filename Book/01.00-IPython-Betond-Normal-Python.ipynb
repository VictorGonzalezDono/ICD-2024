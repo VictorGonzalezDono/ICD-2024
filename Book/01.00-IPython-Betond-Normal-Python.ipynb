{
 "cells": [
  {
   "cell_type": "markdown",
   "id": "cd86128d-31bf-4532-8c14-4b64bd13b3d3",
   "metadata": {},
   "source": [
    "# IPython: Beyond Normal Python\n",
    "\r\n",
    "There are many options for development environments for Python, and I'm often asked which one I use in my own work. My answer sometimes surprises people: my preferred environment is IPython plus a text editor (in my case, Emacs or Atom depending on my mood). IPython (short for Interactive Python) was started in 2001 by Fernando Perez as an enhanced Python interpreter, and has since grown into a project aiming to provide, in Perez's words, \"Tools for the entire life cycle of research computing.\" If Python is the engine of our data science task, you might think of IPython as the interactive control panel.\r\n",
    "\r\n",
    "As well as being a useful interactive interface to Python, IPython also provides a number of useful syntactic additions to the language; we'll cover the most useful of these additions here. In addition, IPython is closely tied with the Jupyter project, which provides a browser-based notebook that is useful for development, collaboration, sharing, and even publication of data science results. The IPython notebook is actually a special case of the broader Jupyter notebook structure, which encompasses notebooks for Julia, R, and other programming languages. As an example of the usefulness of the notebook format, look no further than the page you are reading: the entire manuscript for this book was composed as a set of IPython notebooks.\r\n",
    "\r\n",
    "IPython is about using Python effectively for interactive scientific and data-intensive computing. This chapter will start by stepping through some of the IPython features that are useful to the practice of data science, focusing especially on the syntax it offers beyond the standard features of Python. Next, we will go into a bit more depth on some of the more useful \"magic commands\" that can speed-up common tasks in creating and using data science code. Finally, we will touch on some of the features of the notebook that make it useful in understanding data and sh results   g res\n",
    "\n",
    "## Shell or Notebook?\r\n",
    "There are two primary means of using IPython that we'll discuss in this chapter: the IPython shell and the IPython notebook. The bulk of the material in this chapter is relevant to both, and the examples will switch between them depending on what is most convenient. In the few sections that are relevant to just one or the other, we will explicitly state that fact. Before we start, some words on how to launch the IPython shell and IPython nothost:8888/ in this example).ults."
   ]
  },
  {
   "cell_type": "markdown",
   "id": "eaec33ed-a2df-4ad7-8ed6-f3a082347d4a",
   "metadata": {},
   "source": [
    "\n",
    "##  Launching the IPython Shell\n",
    "This chapter, like most of this book, is not designed to be absorbed passively. I recommend that as you read through it, you follow along and experiment with the tools and syntax we cover: the muscle-memory you build through doing this will be far more useful than the simple act of reading about it. Start by launching the IPython interpreter by typing ipython on the command-line; alternatively, if you've installed a distribution like Anaconda or EPD, there may be a launcher specific to your system (we'll discuss this more fully in Help and Documentation in IPython).\n",
    "\n",
    "Once you do this, you should see a prompt like the following:\n",
    "\n",
    "IPython 4.0.1 -- An enhanced Interactive Python.\n",
    "?         -> Introduction and overview of IPython's features.\n",
    "%quickref -> Quick reference.\n",
    "help      -> Python's own help system.\n",
    "object?   -> Details about 'object', use 'object??' for extra details.\n",
    "In [1]:\n",
    "With that, you're ready to f## ollow along.\n",
    "\n",
    "Launching the Jupyter Notebook\n",
    "The Jupyter notebook is a browser-based graphical interface to the IPython shell, and builds on it a rich set of dynamic display capabilities. As well as executing Python/IPython statements, the notebook allows the user to include formatted text, static and dynamic visualizations, mathematical equations, JavaScript widgets, and much more. Furthermore, these documents can be saved in a way that lets other people open them and execute the code on their own systems.\n",
    "\n",
    "Though the IPython notebook is viewed and edited through your web browser window, it must connect to a running Python process in order to execute code. This process (known as a \"kernel\") can be started by running the following command in your system shell:\n",
    "\n",
    "$ jupyter notebook\n",
    "This command will launch a local web server that will be visible to your browser. It immediately spits out a log showing what it is doing; that log will look something like this:\n",
    "\n",
    "$ jupyter notebook\n",
    "[NotebookApp] Serving notebooks from local directory: /Users/jakevdp/PythonDataScienceHandbook\n",
    "[NotebookApp] 0 active kernels \n",
    "[NotebookApp] The IPython Notebook is running at: http://localhost:8888/\n",
    "[NotebookApp] Use Control-C to stop this server and shut down all kernels (twice to skip confirmation).\n",
    "Upon issuing the command, your default browser should automatically open and navigate to the listed local URL; the exact address will depend on your system. If the browser does not open automatically, you can open a window and manually open this address (http://localhost:8888/ in this example).ults."
   ]
  },
  {
   "cell_type": "code",
   "execution_count": null,
   "id": "299fdb2b-657a-45fc-9d14-fee7dfa9328f",
   "metadata": {},
   "outputs": [],
   "source": []
  }
 ],
 "metadata": {
  "kernelspec": {
   "display_name": "Python 3 (ipykernel)",
   "language": "python",
   "name": "python3"
  },
  "language_info": {
   "codemirror_mode": {
    "name": "ipython",
    "version": 3
   },
   "file_extension": ".py",
   "mimetype": "text/x-python",
   "name": "python",
   "nbconvert_exporter": "python",
   "pygments_lexer": "ipython3",
   "version": "3.12.4"
  }
 },
 "nbformat": 4,
 "nbformat_minor": 5
}
