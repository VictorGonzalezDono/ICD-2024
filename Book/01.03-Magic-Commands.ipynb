{
 "cells": [
  {
   "cell_type": "markdown",
   "id": "0c07c29b-3f4e-4343-aad7-beff1d86548f",
   "metadata": {},
   "source": [
    "# IPython Magic Commands\r\n",
    "The previous two sections showed how IPython lets you use and explore Python efficiently and interactively. Here we'll begin discussing some of the enhancements that IPython adds on top of the normal Python syntax. These are known in IPython as magic commands, and are prefixed by the % character. These magic commands are designed to succinctly solve various common problems in standard data analysis. Magic commands come in two flavors: line magics, which are denoted by a single % prefix and operate on a single line of input, and cell magics, which are denoted by a double %% prefix and operate on multiple lines of input. We'll demonstrate and discuss a few brief examples here, and come back to more focused discussion of several useful magic commands later in the chapter.\r",
    "ion:"
   ]
  },
  {
   "cell_type": "markdown",
   "id": "7b7094ab-88c6-4f8e-8ad3-9da19f114780",
   "metadata": {},
   "source": [
    "## Pasting Code Blocks: %paste and %cpaste\n",
    "When working in the IPython interpreter, one common gotcha is that pasting multi-line code blocks can lead to unexpected errors, especially when indentation and interpreter markers are involved. A common case is that you find some example code on a website and want to paste it into your interpreter. Consider the following simple function:"
   ]
  },
  {
   "cell_type": "code",
   "execution_count": null,
   "id": "b5b16bd0-bc05-404f-ae38-032d144568fd",
   "metadata": {},
   "outputs": [],
   "source": [
    ">>> def donothing(x):\n",
    "...     return x\n",
    "The code is formatted as it would appear in the Python interpreter, and if you copy and paste this directly into IPython you get an error:\n",
    "\n",
    "In [2]: >>> def donothing(x):\n",
    "   ...:     ...     return x\n",
    "   ...:     \n",
    "  File \"<ipython-input-20-5a66c8964687>\", line 2\n",
    "    ...     return x\n",
    "                 ^\n",
    "\n",
    "SyntaxError: invalid syntax\n",
    "\n",
    "In the direct paste, the interpreter is confused by the additional prompt characters. But never fear–IPython's %paste magic function is designed to handle this exact type of multi-line, marked-up input:\n",
    "\n",
    "In [3]: %paste\n",
    ">>> def donothing(x):\n",
    "...     return x\n",
    "\n",
    "## -- End pasted text --"
   ]
  },
  {
   "cell_type": "code",
   "execution_count": null,
   "id": "f6307621-3c2a-486c-bd87-33511abf14d6",
   "metadata": {},
   "outputs": [],
   "source": [
    "In [4]: donothing(10)\n",
    "Out[4]: 10\n",
    "A command with a similar intent is %cpaste, which opens up an interactive multiline prompt in which you can paste one or more chunks of code to be executed in a batch:\n",
    "\n",
    "In [5]: %cpaste\n",
    "Pasting code; enter '--' alone on the line to stop or use Ctrl-D.\n",
    ":>>> def donothing(x):\n",
    ":...     return x\n",
    ":--"
   ]
  },
  {
   "cell_type": "markdown",
   "id": "8264a330-da7f-4b59-9596-372da114ccc3",
   "metadata": {},
   "source": [
    "These magic commands, like others we'll see, make available functionality that would be difficult or impossible in a standard Python interpreter.\n",
    "\n",
    "## Running External Code: %run\n",
    "As you begin developing more extensive code, you will likely find yourself working in both IPython for interactive exploration, as well as a text editor to store code that you want to reuse. Rather than running this code in a new window, it can be convenient to run it within your IPython session. This can be done with the %run magic.\n",
    "\n",
    "For example, imagine you've created a myscript.py file with the following contents:"
   ]
  },
  {
   "cell_type": "code",
   "execution_count": null,
   "id": "a9276086-530b-44b4-8ace-1d80d0c192b3",
   "metadata": {},
   "outputs": [],
   "source": [
    "#-------------------------------------\n",
    "# file: myscript.py\n",
    "\n",
    "def square(x):\n",
    "    \"\"\"square a number\"\"\"\n",
    "    return x ** 2\n",
    "\n",
    "for N in range(1, 4):\n",
    "    print(N, \"squared is\", square(N))\n",
    "You can execute this from your IPython session as follows:\n",
    "\n",
    "In [6]: %run myscript.py\n",
    "1 squared is 1\n",
    "2 squared is 4\n",
    "3 squared is 9\n",
    "Note also that after you've run this script, any functions defined within it are available for use in your IPython session:\n",
    "\n",
    "In [7]: square(5)\n",
    "Out[7]: 25\n",
    "There are several options to fine-tune how your code is run; you can see the documentation in the normal way, by typing %run? in the IPython interpreter."
   ]
  },
  {
   "cell_type": "markdown",
   "id": "cb650d46-ad38-4214-a591-efbb63e0c683",
   "metadata": {},
   "source": [
    "## Timing Code Execution: %timeit\n",
    "Another example of a useful magic function is %timeit, which will automatically determine the execution time of the single-line Python statement that follows it. For example, we may want to check the performance of a list comprehension:"
   ]
  },
  {
   "cell_type": "code",
   "execution_count": null,
   "id": "14fdb939-9512-4b9d-85f3-8123df4779d9",
   "metadata": {},
   "outputs": [],
   "source": [
    "In [8]: %timeit L = [n ** 2 for n in range(1000)]\n",
    "1000 loops, best of 3: 325 µs per loop"
   ]
  },
  {
   "cell_type": "markdown",
   "id": "6e37c11f-ced2-46ff-85bd-090a34f6522e",
   "metadata": {},
   "source": [
    "The benefit of %timeit is that for short commands it will automatically perform multiple runs in order to attain more robust results. For multi line statements, adding a second % sign will turn this into a cell magic that can handle multiple lines of input. For example, here's the equivalent construction with a for-loop:"
   ]
  },
  {
   "cell_type": "code",
   "execution_count": null,
   "id": "2c6d833c-26d2-4e0c-a99a-75e94d62db5b",
   "metadata": {},
   "outputs": [],
   "source": [
    "In [9]: %%timeit\n",
    "   ...: L = []\n",
    "   ...: for n in range(1000):\n",
    "   ...:     L.append(n ** 2)\n",
    "   ...: \n",
    "1000 loops, best of 3: 373 µs per loop"
   ]
  },
  {
   "cell_type": "markdown",
   "id": "8dadb868-8934-4335-b4da-770a82bd8c5f",
   "metadata": {},
   "source": [
    "We can immediately see that list comprehensions are about 10% faster than the equivalent for-loop construction in this case. We'll explore %timeit and other approaches to timing and profiling code in Profiling and Timing Code.\n",
    "\n",
    "## Help on Magic Functions: ?, %magic, and %lsmagic\n",
    "Like normal Python functions, IPython magic functions have docstrings, and this useful documentation can be accessed in the standard manner. So, for example, to read the documentation of the %timeit magic simply type this:"
   ]
  },
  {
   "cell_type": "code",
   "execution_count": null,
   "id": "40dec129-37d4-4024-959c-bd7615229fad",
   "metadata": {},
   "outputs": [],
   "source": [
    "In [10]: %timeit?"
   ]
  },
  {
   "cell_type": "markdown",
   "id": "0bbd2ff2-9e01-4b1e-8679-11a058099a3d",
   "metadata": {},
   "source": [
    "Documentation for other functions can be accessed similarly. To access a general description of available magic functions, including some examples, you can type this:"
   ]
  },
  {
   "cell_type": "code",
   "execution_count": null,
   "id": "f8e3f251-6ffa-4d15-bf7f-0d3930894c42",
   "metadata": {},
   "outputs": [],
   "source": [
    "In [11]: %magic"
   ]
  },
  {
   "cell_type": "markdown",
   "id": "0c87f5b7-8985-42c8-82dc-44ad93920d3f",
   "metadata": {},
   "source": [
    "For a quick and simple list of all available magic functions, type this:"
   ]
  },
  {
   "cell_type": "code",
   "execution_count": null,
   "id": "53eaa9ad-fec1-4197-a181-a3049f0dd557",
   "metadata": {},
   "outputs": [],
   "source": [
    "In [12]: %lsmagic"
   ]
  },
  {
   "cell_type": "markdown",
   "id": "9f55e826-9d0f-4fd3-969e-6ec92cbbade7",
   "metadata": {},
   "source": [
    "Finally, I'll mention that it is quite straightforward to define your own magic functions if you wish. We won't discuss it here, but if you are interested, see the references listed in More IPython Resources."
   ]
  },
  {
   "cell_type": "code",
   "execution_count": null,
   "id": "be739f99-2a49-44a3-89fc-5672391fed68",
   "metadata": {},
   "outputs": [],
   "source": []
  }
 ],
 "metadata": {
  "kernelspec": {
   "display_name": "Python 3 (ipykernel)",
   "language": "python",
   "name": "python3"
  },
  "language_info": {
   "codemirror_mode": {
    "name": "ipython",
    "version": 3
   },
   "file_extension": ".py",
   "mimetype": "text/x-python",
   "name": "python",
   "nbconvert_exporter": "python",
   "pygments_lexer": "ipython3",
   "version": "3.12.4"
  }
 },
 "nbformat": 4,
 "nbformat_minor": 5
}
