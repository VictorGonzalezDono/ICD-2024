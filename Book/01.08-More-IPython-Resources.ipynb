{
 "cells": [
  {
   "cell_type": "markdown",
   "id": "a5fca158-c923-44d4-b8db-934f0434e5c8",
   "metadata": {},
   "source": [
    "## More IPython Resources\r\n",
    "In this chapter, we've just scratched the surface of using IPython to enable data science tasks. Much more information is available both in print and on the Web, and here we'll list some other resources that you may find helpful.\n"
   ]
  },
  {
   "cell_type": "markdown",
   "id": "e008f6a5-0f5a-46be-8e6a-2ef9e804937a",
   "metadata": {},
   "source": [
    "## Web Resources\r\n",
    "The IPython website: The IPython website links to documentation, examples, tutorials, and a variety of other resources.\r\n",
    "The nbviewer website: This site shows static renderings of any IPython notebook available on the internet. The front page features some example notebooks that you can browse to see what other folks are using IPython for!\r\n",
    "A gallery of interesting Jupyter Notebooks: This ever-growing list of notebooks, powered by nbviewer, shows the depth and breadth of numerical analysis you can do with IPython. It includes everything from short examples and tutorials to full-blown courses and books composed in the notebook format!\r\n",
    "Video Tutorials: searching the Internet, you will find many video-recorded tutorials on IPython. I'd especially recommend seeking tutorials from the PyCon, SciPy, and PyData conferenes by Fernando Perez and Brian Granger, two of the primary creators and maintainers of IPython and Jupyter."
   ]
  },
  {
   "cell_type": "markdown",
   "id": "85b7fba9-6e7b-4084-ab2c-ffb0cb73b119",
   "metadata": {},
   "source": [
    "## Books\r\n",
    "Python for Data Analysis: Wes McKinney's book includes a chapter that covers using IPython as a data scientist. Although much of the material overlaps what we've discussed here, another perspective is always helpful.\r\n",
    "Learning IPython for Interactive Computing and Data Visualization: This short book by Cyrille Rossant offers a good introduction to using IPython for data analysis.\r\n",
    "IPython Interactive Computing and Visualization Cookbook: Also by Cyrille Rossant, this book is a longer and more advanced treatment of using IPython for data science. Despite its name, it's not just about IPython–it also goes into some depth on a broad range of data science topics."
   ]
  },
  {
   "cell_type": "markdown",
   "id": "fafa1105-eee6-48ba-9e6b-d944eeaee09a",
   "metadata": {},
   "source": [
    "Finally, a reminder that you can find help on your own: IPython's ?-based help functionality (discussed in Help and Documentation in IPython) can be very useful if you use it well and use it often. As you go through the examples here and elsewhere, this can be used to familiarize yourself with all the tools that IPython has to offer."
   ]
  },
  {
   "cell_type": "code",
   "execution_count": null,
   "id": "4f03ebec-7677-4235-88d8-39e6325ce539",
   "metadata": {},
   "outputs": [],
   "source": []
  }
 ],
 "metadata": {
  "kernelspec": {
   "display_name": "Python 3 (ipykernel)",
   "language": "python",
   "name": "python3"
  },
  "language_info": {
   "codemirror_mode": {
    "name": "ipython",
    "version": 3
   },
   "file_extension": ".py",
   "mimetype": "text/x-python",
   "name": "python",
   "nbconvert_exporter": "python",
   "pygments_lexer": "ipython3",
   "version": "3.12.4"
  }
 },
 "nbformat": 4,
 "nbformat_minor": 5
}
