{
 "cells": [
  {
   "cell_type": "markdown",
   "id": "0b82a6ad-038b-488f-bc97-76230194cf24",
   "metadata": {},
   "source": [
    "# Keyboard Shortcuts in the IPython Shell\r\n",
    "If you spend any amount of time on the computer, you've probably found a use for keyboard shortcuts in your workflow. Most familiar perhaps are the Cmd-C and Cmd-V (or Ctrl-C and Ctrl-V) for copying and pasting in a wide variety of programs and systems. Power-users tend to go even further: popular text editors like Emacs, Vim, and others provide users an incredible range of operations through intricate combinations of keystrokes.\r\n",
    "\r\n",
    "The IPython shell doesn't go this far, but does provide a number of keyboard shortcuts for fast navigation while typing commands. These shortcuts are not in fact provided by IPython itself, but through its dependency on the GNU Readline library: as such, some of the following shortcuts may differ depending on your system configuration. Also, while some of these shortcuts do work in the browser-based notebook, this section is primarily about shortcuts in the IPython shell.\r\n",
    "\r\n",
    "Once you get accustomed to these, they can be very useful for quickly performing certain commands without moving your hands from the \"home\" keyboard position. If you're an Emacs user or if you have experience with Linux-style shells, the following will be very familiar. We'll group these shortcuts into a few categories: navigation shortcuts, text entry shortcuts, command history shortcuts, and miscellaneous shortcosition:"
   ]
  },
  {
   "cell_type": "markdown",
   "id": "2edc29f4-9675-4b18-80dd-d4846890b1fc",
   "metadata": {},
   "source": [
    "\n",
    "## Navigation shortcuts\n",
    "While the use of the left and right arrow keys to move backward and forward in the line is quite obvious, there are other options that don't require moving your hands from the \"home\" keyboard position:"
   ]
  },
  {
   "cell_type": "code",
   "execution_count": null,
   "id": "3956faa7-cee1-4a56-9687-b1efb5f659ff",
   "metadata": {},
   "outputs": [],
   "source": [
    "Keystroke\tAction\n",
    "Ctrl-a\tMove cursor to the beginning of the line\n",
    "Ctrl-e\tMove cursor to the end of the line\n",
    "Ctrl-b or the left arrow key\tMove cursor back one character\n",
    "Ctrl-f or the right arrow key\tMove cursor forward one character"
   ]
  },
  {
   "cell_type": "markdown",
   "id": "7f10cf00-0579-4b59-b5f3-107852d88c23",
   "metadata": {},
   "source": [
    "## Text Entry Shortcuts\n",
    "While everyone is familiar with using the Backspace key to delete the previous character, reaching for the key often requires some minor finger gymnastics, and it only deletes a single character at a time. In IPython there are several shortcuts for removing some portion of the text you're typing. The most immediately useful of these are the commands to delete entire lines of text. You'll know these have become second-nature if you find yourself using a combination of Ctrl-b and Ctrl-d instead of reaching for Backspace to delete the previous character!"
   ]
  },
  {
   "cell_type": "code",
   "execution_count": null,
   "id": "462b11a4-d5be-434e-b921-3172ec049b60",
   "metadata": {},
   "outputs": [],
   "source": [
    "\n",
    "Keystroke\tAction\n",
    "Backspace key\tDelete previous character in line\n",
    "Ctrl-d\tDelete next character in line\n",
    "Ctrl-k\tCut text from cursor to end of line\n",
    "Ctrl-u\tCut text from beginning of line to cursor\n",
    "Ctrl-y\tYank (i.e. paste) text that was previously cut\n",
    "Ctrl-t\tTranspose (i.e., switch) previous two characters"
   ]
  },
  {
   "cell_type": "markdown",
   "id": "10958650-c077-4c50-832a-93a946686c63",
   "metadata": {},
   "source": [
    "## Command History Shortcuts\n",
    "Perhaps the most impactful shortcuts discussed here are the ones IPython provides for navigating the command history. This command history goes beyond your current IPython session: your entire command history is stored in a SQLite database in your IPython profile directory. The most straightforward way to access these is with the up and down arrow keys to step through the history, but other options exist as well:"
   ]
  },
  {
   "cell_type": "code",
   "execution_count": null,
   "id": "b8fa7712-dc00-4077-896d-0958c50c6ad6",
   "metadata": {},
   "outputs": [],
   "source": [
    "Keystroke\tAction\n",
    "Ctrl-p (or the up arrow key)\tAccess previous command in history\n",
    "Ctrl-n (or the down arrow key)\tAccess next command in history\n",
    "Ctrl-r\tReverse-search through command history"
   ]
  },
  {
   "cell_type": "markdown",
   "id": "2c924e01-ad8b-4b8c-976d-2eedd58bd2a9",
   "metadata": {},
   "source": [
    "The reverse-search can be particularly useful. Recall that in the previous section we defined a function called square. Let's reverse-search our Python history from a new IPython shell and find this definition again. When you press Ctrl-r in the IPython terminal, you'll see the following prompt:"
   ]
  },
  {
   "cell_type": "code",
   "execution_count": null,
   "id": "a3c053c4-5c99-4251-bb75-bb86c186070e",
   "metadata": {},
   "outputs": [],
   "source": [
    "In [1]:\n",
    "(reverse-i-search)`':\n",
    "If you start typing characters at this prompt, IPython will auto-fill the most recent command, if any, that matches those characters:\n",
    "\n",
    "In [1]: \n",
    "(reverse-i-search)`sqa': square??"
   ]
  },
  {
   "cell_type": "markdown",
   "id": "6903603f-3393-498f-bfea-b398ee8c2bc3",
   "metadata": {},
   "source": [
    "At any point, you can add more characters to refine the search, or press Ctrl-r again to search further for another command that matches the query. If you followed along in the previous section, pressing Ctrl-r twice more gives:"
   ]
  },
  {
   "cell_type": "code",
   "execution_count": null,
   "id": "aea79686-6f9f-483a-bec5-76f256ce05bc",
   "metadata": {},
   "outputs": [],
   "source": [
    "In [1]: \n",
    "(reverse-i-search)`sqa': def square(a):\n",
    "    \"\"\"Return the square of a\"\"\"\n",
    "    return a ** 2"
   ]
  },
  {
   "cell_type": "markdown",
   "id": "ce8b4b61-158c-4f28-a922-1ffdffa38d55",
   "metadata": {},
   "source": [
    "Once you have found the command you're looking for, press Return and the search will end. We can then use the retrieved command, and carry-on with our session:"
   ]
  },
  {
   "cell_type": "code",
   "execution_count": null,
   "id": "bf886022-b6be-4166-8989-c5bbddd7ce40",
   "metadata": {},
   "outputs": [],
   "source": [
    "In [1]: def square(a):\n",
    "    \"\"\"Return the square of a\"\"\"\n",
    "    return a ** 2\n",
    "\n",
    "In [2]: square(2)\n",
    "Out[2]: 4"
   ]
  },
  {
   "cell_type": "markdown",
   "id": "0d6579d0-d73b-4872-a1fe-56975637254f",
   "metadata": {},
   "source": [
    "Note that Ctrl-p/Ctrl-n or the up/down arrow keys can also be used to search through history, but only by matching characters at the beginning of the line. That is, if you type def and then press Ctrl-p, it would find the most recent command (if any) in your history that begins with the characters def.\n",
    "\n",
    "## Miscellaneous Shortcuts\n",
    "Finally, there are a few miscellaneous shortcuts that don't fit into any of the preceding categories, but are nevertheless useful to know:"
   ]
  },
  {
   "cell_type": "code",
   "execution_count": null,
   "id": "19242076-1541-4c7c-b02d-27274bed1b22",
   "metadata": {},
   "outputs": [],
   "source": [
    "\n",
    "Keystroke\tAction\n",
    "Ctrl-l\tClear terminal screen\n",
    "Ctrl-c\tInterrupt current Python command\n",
    "Ctrl-d\tExit IPython session"
   ]
  },
  {
   "cell_type": "markdown",
   "id": "4eda0e12-f8c3-4fcf-81a3-f65305223f09",
   "metadata": {},
   "source": [
    "The Ctrl-c in particular can be useful when you inadvertently start a very long-running job.\n",
    "\n",
    "While some of the shortcuts discussed here may seem a bit tedious at first, they quickly become automatic with practice. Once you develop that muscle memory, I suspect you will even find yourself wishing they were available in other contexts."
   ]
  },
  {
   "cell_type": "code",
   "execution_count": null,
   "id": "540abdf1-8ffa-468e-89f2-80af2e244e5a",
   "metadata": {},
   "outputs": [],
   "source": []
  }
 ],
 "metadata": {
  "kernelspec": {
   "display_name": "Python 3 (ipykernel)",
   "language": "python",
   "name": "python3"
  },
  "language_info": {
   "codemirror_mode": {
    "name": "ipython",
    "version": 3
   },
   "file_extension": ".py",
   "mimetype": "text/x-python",
   "name": "python",
   "nbconvert_exporter": "python",
   "pygments_lexer": "ipython3",
   "version": "3.12.4"
  }
 },
 "nbformat": 4,
 "nbformat_minor": 5
}
