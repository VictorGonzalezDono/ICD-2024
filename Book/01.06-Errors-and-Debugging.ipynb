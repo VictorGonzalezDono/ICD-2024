{
 "cells": [
  {
   "cell_type": "markdown",
   "id": "a2507a8b-356f-4026-ab9f-0e701586487b",
   "metadata": {},
   "source": [
    "## Errors and Debugging\n",
    "Code development and data analysis always require a bit of trial and error, and IPython contains tools to streamline this process. This section will briefly cover some options for controlling Python's exception reporting, followed by exploring tools for debugging errors in code.\n",
    "\n",
    "## Controlling Exceptions: %xmode\n",
    "Most of the time when a Python script fails, it will raise an Exception. When the interpreter hits one of these exceptions, information about the cause of the error can be found in the traceback, which can be accessed from within Python. With the %xmode magic function, IPython allows you to control the amount of information printed when the exception is raised. Consider the following code:"
   ]
  },
  {
   "cell_type": "markdown",
   "id": "7f089fc5-2d11-403d-8898-ef4e3d6d2b4e",
   "metadata": {},
   "source": [
    "def func1(a, b):\n",
    "    return a / b\n",
    "\n",
    "def func2(x):\n",
    "    a = x\n",
    "    b = x - 1\n",
    "    return func1(a, b)"
   ]
  },
  {
   "cell_type": "code",
   "execution_count": null,
   "id": "b135878e-1dc7-4bb4-8528-eb36ea7e7336",
   "metadata": {},
   "outputs": [],
   "source": [
    "func2(1)"
   ]
  },
  {
   "cell_type": "markdown",
   "id": "3c041f3e-0132-4184-8ba6-a8a918d51944",
   "metadata": {},
   "source": [
    "Calling func2 results in an error, and reading the printed trace lets us see exactly what happened. By default, this trace includes several lines showing the context of each step that led to the error. Using the %xmode magic function (short for Exception mode), we can change what information is printed.\n",
    "\n",
    "%xmode takes a single argument, the mode, and there are three possibilities: Plain, Context, and Verbose. The default is Context, and gives output like that just shown before. Plain is more compact and gives less information:"
   ]
  },
  {
   "cell_type": "code",
   "execution_count": null,
   "id": "a02d3b7c-c3db-4498-ae7c-742abffa400f",
   "metadata": {},
   "outputs": [],
   "source": [
    "%xmode Plain"
   ]
  },
  {
   "cell_type": "markdown",
   "id": "106646ec-d68c-4cc7-9454-d4415a08cf46",
   "metadata": {},
   "source": [
    "Exception reporting mode: Plain"
   ]
  },
  {
   "cell_type": "code",
   "execution_count": 4,
   "id": "176304b9-30f7-4648-98bf-33ab11c48daa",
   "metadata": {},
   "outputs": [
    {
     "ename": "NameError",
     "evalue": "name 'func2' is not defined",
     "output_type": "error",
     "traceback": [
      "\u001b[1;31m---------------------------------------------------------------------------\u001b[0m",
      "\u001b[1;31mNameError\u001b[0m                                 Traceback (most recent call last)",
      "Cell \u001b[1;32mIn[4], line 1\u001b[0m\n\u001b[1;32m----> 1\u001b[0m func2(\u001b[38;5;241m1\u001b[39m)\n",
      "\u001b[1;31mNameError\u001b[0m: name 'func2' is not defined"
     ]
    }
   ],
   "source": [
    "func2(1)"
   ]
  },
  {
   "cell_type": "markdown",
   "id": "ab122599-e813-4781-95e8-8c481119dbd2",
   "metadata": {},
   "source": [
    "The Verbose mode adds some extra information, including the arguments to any functions that are called:"
   ]
  },
  {
   "cell_type": "code",
   "execution_count": null,
   "id": "b0fee34e-23c0-46ee-8666-1241a74e45b8",
   "metadata": {},
   "outputs": [],
   "source": [
    "%xmode Verbose"
   ]
  },
  {
   "cell_type": "markdown",
   "id": "8a93d553-3e24-40a6-92c9-f6ee7edd2446",
   "metadata": {},
   "source": [
    "Exception reporting mode: Verbose"
   ]
  },
  {
   "cell_type": "code",
   "execution_count": null,
   "id": "67775aa7-1e5e-4727-89b2-395f6e57052e",
   "metadata": {},
   "outputs": [],
   "source": [
    "func2(1)"
   ]
  },
  {
   "cell_type": "markdown",
   "id": "bf551ac9-3938-4ee2-a051-d9c6ceaecc05",
   "metadata": {},
   "source": [
    "This extra information can help narrow-in on why the exception is being raised. So why not use the Verbose mode all the time? As code gets complicated, this kind of traceback can get extremely long. Depending on the context, sometimes the brevity of Default mode is easier to work with.\n",
    "\n",
    "## Debugging: When Reading Tracebacks Is Not Enough\n",
    "The standard Python tool for interactive debugging is pdb, the Python debugger. This debugger lets the user step through the code line by line in order to see what might be causing a more difficult error. The IPython-enhanced version of this is ipdb, the IPython debugger.\n",
    "\n",
    "There are many ways to launch and use both these debuggers; we won't cover them fully here. Refer to the online documentation of these two utilities to learn more.\n",
    "\n",
    "In IPython, perhaps the most convenient interface to debugging is the %debug magic command. If you call it after hitting an exception, it will automatically open an interactive debugging prompt at the point of the exception. The ipdb prompt lets you explore the current state of the stack, explore the available variables, and even run Python commands!\n",
    "\n",
    "Let's look at the most recent exception, then do some basic tasks–print the values of a and b, and type quit to quit the debugging session:"
   ]
  },
  {
   "cell_type": "markdown",
   "id": "84bc89ec-6c52-4674-987a-314c05aceacb",
   "metadata": {},
   "source": [
    "%debug\n",
    "> <ipython-input-1-d849e34d61fb>(2)func1()\n",
    "      1 def func1(a, b):\n",
    "----> 2     return a / b\n",
    "      3 \n",
    "\n",
    "ipdb> print(a)\n",
    "1\n",
    "ipdb> print(b)\n",
    "0\n",
    "ipdb> quit"
   ]
  },
  {
   "cell_type": "markdown",
   "id": "17c9bb11-9c57-4e83-8aaf-ebd9e7ecf21b",
   "metadata": {},
   "source": [
    "The interactive debugger allows much more than this, though–we can even step up and down through the stack and explore the values of variables there:"
   ]
  },
  {
   "cell_type": "code",
   "execution_count": null,
   "id": "36afb200-ec32-4799-8a67-9121b1d6c2e8",
   "metadata": {},
   "outputs": [],
   "source": [
    "%debug\n",
    "> <ipython-input-1-d849e34d61fb>(2)func1()\n",
    "      1 def func1(a, b):\n",
    "----> 2     return a / b\n",
    "      3 \n",
    "\n",
    "ipdb> up\n",
    "> <ipython-input-1-d849e34d61fb>(7)func2()\n",
    "      5     a = x\n",
    "      6     b = x - 1\n",
    "----> 7     return func1(a, b)\n",
    "\n",
    "ipdb> print(x)\n",
    "1\n",
    "ipdb> up\n",
    "> <ipython-input-6-b2e110f6fc8f>(1)<module>()\n",
    "----> 1 func2(1)\n",
    "\n",
    "ipdb> down\n",
    "> <ipython-input-1-d849e34d61fb>(7)func2()\n",
    "      5     a = x\n",
    "      6     b = x - 1\n",
    "----> 7     return func1(a, b)\n",
    "\n",
    "ipdb> quit"
   ]
  },
  {
   "cell_type": "markdown",
   "id": "2f4f5d38-84ad-4f62-a7c5-695c5faa3ef9",
   "metadata": {},
   "source": [
    "This allows you to quickly find out not only what caused the error, but what function calls led up to the error.\n",
    "\n",
    "If you'd like the debugger to launch automatically whenever an exception is raised, you can use the %pdb magic function to turn on this automatic behavior:"
   ]
  },
  {
   "cell_type": "code",
   "execution_count": null,
   "id": "8acbe4e2-d925-4f05-bea2-4984bc7f2319",
   "metadata": {},
   "outputs": [],
   "source": [
    "%xmode Plain\n",
    "%pdb on\n",
    "func2(1)"
   ]
  },
  {
   "cell_type": "markdown",
   "id": "6b22937f-0c07-4000-9314-995d3dbcf286",
   "metadata": {},
   "source": [
    "Exception reporting mode: Plain\n",
    "Automatic pdb calling has been turned ON"
   ]
  },
  {
   "cell_type": "code",
   "execution_count": null,
   "id": "1d7f645d-f594-42ea-ac8f-05d82e5fd33b",
   "metadata": {},
   "outputs": [],
   "source": [
    "Traceback (most recent call last):\n",
    "\n",
    "  File \"<ipython-input-9-569a67d2d312>\", line 3, in <module>\n",
    "    func2(1)\n",
    "\n",
    "  File \"<ipython-input-1-d849e34d61fb>\", line 7, in func2\n",
    "    return func1(a, b)\n",
    "\n",
    "  File \"<ipython-input-1-d849e34d61fb>\", line 2, in func1\n",
    "    return a / b\n",
    "\n",
    "ZeroDivisionError: division by zero\n",
    "> <ipython-input-1-d849e34d61fb>(2)func1()\n",
    "      1 def func1(a, b):\n",
    "----> 2     return a / b\n",
    "      3 \n",
    "\n",
    "ipdb> print(b)\n",
    "0\n",
    "ipdb> quit"
   ]
  },
  {
   "cell_type": "markdown",
   "id": "42b5d86d-d104-4596-a5bb-287364fb8674",
   "metadata": {},
   "source": [
    "Finally, if you have a script that you'd like to run from the beginning in interactive mode, you can run it with the command %run -d, and use the next command to step through the lines of code interactively.\n",
    "\n",
    "## Partial list of debugging commands\n",
    "There are many more available commands for interactive debugging than we've listed here; the following table contains a description of some of the more common and useful ones:"
   ]
  },
  {
   "cell_type": "raw",
   "id": "ef436f65-6b31-435f-a520-503ec1031727",
   "metadata": {},
   "source": [
    "Command\tDescription\n",
    "list\tShow the current location in the file\n",
    "h(elp)\tShow a list of commands, or find help on a specific command\n",
    "q(uit)\tQuit the debugger and the program\n",
    "c(ontinue)\tQuit the debugger, continue in the program\n",
    "n(ext)\tGo to the next step of the program\n",
    "<enter>\tRepeat the previous command\n",
    "p(rint)\tPrint variables\n",
    "s(tep)\tStep into a subroutine\n",
    "r(eturn)\tReturn out of a subroutine"
   ]
  },
  {
   "cell_type": "markdown",
   "id": "b9eb1007-888c-474b-b46d-761ca313c16e",
   "metadata": {},
   "source": [
    "For more information, use the help command in the debugger, or take a look at ipdb's online documentation."
   ]
  },
  {
   "cell_type": "code",
   "execution_count": null,
   "id": "125c2ab8-7b27-4be0-9e61-712f6853afb6",
   "metadata": {},
   "outputs": [],
   "source": []
  }
 ],
 "metadata": {
  "kernelspec": {
   "display_name": "Python 3 (ipykernel)",
   "language": "python",
   "name": "python3"
  },
  "language_info": {
   "codemirror_mode": {
    "name": "ipython",
    "version": 3
   },
   "file_extension": ".py",
   "mimetype": "text/x-python",
   "name": "python",
   "nbconvert_exporter": "python",
   "pygments_lexer": "ipython3",
   "version": "3.12.4"
  }
 },
 "nbformat": 4,
 "nbformat_minor": 5
}
