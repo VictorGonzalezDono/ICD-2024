{
 "cells": [
  {
   "cell_type": "markdown",
   "id": "09ce8ebf-555a-4e59-a28d-83d1238830e3",
   "metadata": {},
   "source": [
    "## Profiling and Timing Code\n",
    "In the process of developing code and creating data processing pipelines, there are often trade-offs you can make between various implementations. Early in developing your algorithm, it can be counterproductive to worry about such things. As Donald Knuth famously quipped, \"We should forget about small efficiencies, say about 97% of the time: premature optimization is the root of all evil.\"\n",
    "\n",
    "But once you have your code working, it can be useful to dig into its efficiency a bit. Sometimes it's useful to check the execution time of a given command or set of commands; other times it's useful to dig into a multiline process and determine where the bottleneck lies in some complicated series of operations. IPython provides access to a wide array of functionality for this kind of timing and profiling of code. Here we'll discuss the following IPython magic commands:"
   ]
  },
  {
   "cell_type": "code",
   "execution_count": null,
   "id": "196818b9-1d5e-4f6d-b6ac-766c4c422049",
   "metadata": {},
   "outputs": [],
   "source": [
    "%time: Time the execution of a single statement\n",
    "%timeit: Time repeated execution of a single statement for more accuracy\n",
    "%prun: Run code with the profiler\n",
    "%lprun: Run code with the line-by-line profiler\n",
    "%memit: Measure the memory use of a single statement\n",
    "%mprun: Run code with the line-by-line memory profiler"
   ]
  },
  {
   "cell_type": "markdown",
   "id": "a068d1b9-fab1-4653-9193-e246233a69c8",
   "metadata": {},
   "source": [
    "The last four commands are not bundled with IPython–you'll need to get the line_profiler and memory_profiler extensions, which we will discuss in the following sections.\n",
    "\n",
    "## Timing Code Snippets: %timeit and %time\n",
    "We saw the %timeit line-magic and %%timeit cell-magic in the introduction to magic functions in IPython Magic Commands; it can be used to time the repeated execution of snippets of code:"
   ]
  },
  {
   "cell_type": "code",
   "execution_count": null,
   "id": "e92216c8-c15c-4b26-a1e6-af7c7fecc075",
   "metadata": {},
   "outputs": [],
   "source": [
    "%timeit sum(range(100))"
   ]
  },
  {
   "cell_type": "markdown",
   "id": "7c21a9cf-4234-4adb-85b0-fdf61e0ec7f5",
   "metadata": {},
   "source": [
    "100000 loops, best of 3: 1.54 µs per loop\n",
    "Note that because this operation is so fast, %timeit automatically does a large number of repetitions. For slower commands, %timeit will automatically adjust and perform fewer repetitions:"
   ]
  },
  {
   "cell_type": "code",
   "execution_count": null,
   "id": "d744a86a-5324-4c89-b9e8-5326af286ec0",
   "metadata": {},
   "outputs": [],
   "source": [
    "import random\n",
    "L = [random.random() for i in range(100000)]\n",
    "print(\"sorting an unsorted list:\")\n",
    "%time L.sort()"
   ]
  },
  {
   "cell_type": "markdown",
   "id": "59a7085b-ba27-44bf-8965-076a3dccafb2",
   "metadata": {},
   "source": [
    "sorting an unsorted list:\n",
    "CPU times: user 40.6 ms, sys: 896 µs, total: 41.5 ms\n",
    "Wall time: 41.5 ms"
   ]
  },
  {
   "cell_type": "code",
   "execution_count": null,
   "id": "0d6d64d4-1798-4851-947b-4767df004e8a",
   "metadata": {},
   "outputs": [],
   "source": [
    "print(\"sorting an already sorted list:\")\n",
    "%time L.sort()"
   ]
  },
  {
   "cell_type": "markdown",
   "id": "3d07c97d-526e-4b9f-ab16-cdbd477791fe",
   "metadata": {},
   "source": [
    "sorting an already sorted list:\n",
    "CPU times: user 8.18 ms, sys: 10 µs, total: 8.19 ms\n",
    "Wall time: 8.24 ms\n",
    "Notice how much faster the presorted list is to sort, but notice also how much longer the timing takes with %time versus %timeit, even for the presorted list! This is a result of the fact that %timeit does some clever things under the hood to prevent system calls from interfering with the timing. For example, it prevents cleanup of unused Python objects (known as garbage collection) which might otherwise affect the timing. For this reason, %timeit results are usually noticeably faster than %time results.\n",
    "\n",
    "For %time as with %timeit, using the double-percent-sign cell magic syntax allows timing of multiline scripts:"
   ]
  },
  {
   "cell_type": "code",
   "execution_count": null,
   "id": "2ca7a0b8-d7f9-4eba-b111-6de442e46961",
   "metadata": {},
   "outputs": [],
   "source": [
    "%%time\n",
    "total = 0\n",
    "for i in range(1000):\n",
    "    for j in range(1000):\n",
    "        total += i * (-1) ** j"
   ]
  },
  {
   "cell_type": "markdown",
   "id": "bd7f488c-5f4f-448d-814f-3ac71a69e515",
   "metadata": {},
   "source": [
    "CPU times: user 504 ms, sys: 979 µs, total: 505 ms\n",
    "Wall time: 505 ms\n",
    "For more information on %time and %timeit, as well as their available options, use the IPython help functionality (i.e., type %time? at the IPython prompt).\n",
    "\n",
    "## Profiling Full Scripts: %prun\r\n",
    "A program is made of many single statements, and sometimes timing these statements in context is more important than timing them on their own. Python contains a built-in code profiler (which you can read about in the Python documentation), but IPython offers a much more convenient way to use this profiler, in the form of the magic function %prun.\r\n",
    "\r\n",
    "By way of example, we'll define a simple function that does some calculations:"
   ]
  },
  {
   "cell_type": "code",
   "execution_count": null,
   "id": "ababa1c7-fd9f-49f1-97bc-460b02a8eb13",
   "metadata": {},
   "outputs": [],
   "source": [
    "def sum_of_lists(N):\n",
    "    total = 0\n",
    "    for i in range(5):\n",
    "        L = [j ^ (j >> i) for j in range(N)]\n",
    "        total += sum(L)\n",
    "    return total"
   ]
  },
  {
   "cell_type": "markdown",
   "id": "d08f0b32-a179-4580-a515-2b107c025bbe",
   "metadata": {},
   "source": [
    "Now we can call %prun with a function call to see the profiled results:"
   ]
  },
  {
   "cell_type": "code",
   "execution_count": null,
   "id": "d26b260f-319b-4441-94da-fa072b6c34da",
   "metadata": {},
   "outputs": [],
   "source": [
    "%prun sum_of_lists(1000000)"
   ]
  },
  {
   "cell_type": "raw",
   "id": "193046c2-d18a-431f-a035-e87ba3c7f315",
   "metadata": {},
   "source": [
    "In the notebook, the output is printed to the pager, and looks something like this:\n",
    "\n",
    "14 function calls in 0.714 seconds\n",
    "\n",
    "   Ordered by: internal time\n",
    "\n",
    "   ncalls  tottime  percall  cumtime  percall filename:lineno(function)\n",
    "        5    0.599    0.120    0.599    0.120 <ipython-input-19>:4(<listcomp>)\n",
    "        5    0.064    0.013    0.064    0.013 {built-in method sum}\n",
    "        1    0.036    0.036    0.699    0.699 <ipython-input-19>:1(sum_of_lists)\n",
    "        1    0.014    0.014    0.714    0.714 <string>:1(<module>)\n",
    "        1    0.000    0.000    0.714    0.714 {built-in method exec}\n",
    "The result is a table that indicates, in order of total time on each function call, where the execution is spending the most time. In this case, the bulk of execution time is in the list comprehension inside sum_of_lists. From here, we could start thinking about what changes we might make to improve the performance in the algorithm.\n",
    "\n",
    "For more information on %prun, as well as its available options, use the IPython help functionality (i.e., type %prun? at the IPython prompt).\n",
    "\n"
   ]
  },
  {
   "cell_type": "markdown",
   "id": "584e87e6-2bba-4700-9323-638741eb2a6e",
   "metadata": {},
   "source": [
    "## Line-By-Line Profiling with %lprun\n",
    "The function-by-function profiling of %prun is useful, but sometimes it's more convenient to have a line-by-line profile report. This is not built into Python or IPython, but there is a line_profiler package available for installation that can do this. Start by using Python's packaging tool, pip, to install the line_profiler package:\n",
    "\n",
    "$ pip install line_profiler\n",
    "Next, you can use IPython to load the line_profiler IPython extension, offered as part of this package:"
   ]
  },
  {
   "cell_type": "code",
   "execution_count": null,
   "id": "1a997d7a-3fec-4ced-bf42-140d545a55ba",
   "metadata": {},
   "outputs": [],
   "source": [
    "%load_ext line_profiler"
   ]
  },
  {
   "cell_type": "markdown",
   "id": "37f9df28-d62b-480b-8ec1-292899aed123",
   "metadata": {},
   "source": [
    "Now the %lprun command will do a line-by-line profiling of any function–in this case, we need to tell it explicitly which functions we're interested in profiling:"
   ]
  },
  {
   "cell_type": "code",
   "execution_count": null,
   "id": "b77821e0-85be-4566-affa-1f44a19d38f0",
   "metadata": {},
   "outputs": [],
   "source": [
    "%lprun -f sum_of_lists sum_of_lists(5000)"
   ]
  },
  {
   "cell_type": "markdown",
   "id": "16bbe51f-dfef-4620-818f-198090874916",
   "metadata": {},
   "source": [
    "As before, the notebook sends the result to the pager, but it looks something like this:\n",
    "\n",
    "Timer unit: 1e-06 s\n",
    "\n",
    "Total time: 0.009382 s\n",
    "File: <ipython-input-19-fa2be176cc3e>\n",
    "Function: sum_of_lists at line 1\n",
    "\n",
    "Line #      Hits         Time  Per Hit   % Time  Line Contents\n",
    "==============================================================\n",
    "     1                                           def sum_of_lists(N):\n",
    "     2         1            2      2.0      0.0      total = 0\n",
    "     3         6            8      1.3      0.1      for i in range(5):\n",
    "     4         5         9001   1800.2     95.9          L = [j ^ (j >> i) for j in range(N)]\n",
    "     5         5          371     74.2      4.0          total += sum(L)\n",
    "     6         1            0      0.0      0.0      return total\n",
    "The information at the top gives us the key to reading the results: the time is reported in microseconds and we can see where the program is spending the most time. At this point, we may be able to use this information to modify aspects of the script and make it perform better for our desired use case.\n",
    "\n",
    "For more information on %lprun, as well as its available options, use the IPython help functionality (i.e., type %lprun? at the IPython prompt).\n",
    "\n"
   ]
  },
  {
   "cell_type": "markdown",
   "id": "ffd838dc-3803-48de-ad76-83fd72dceca4",
   "metadata": {},
   "source": [
    "## Profiling Memory Use: %memit and %mprun\n",
    "Another aspect of profiling is the amount of memory an operation uses. This can be evaluated with another IPython extension, the memory_profiler. As with the line_profiler, we start by pip-installing the extension:\n",
    "\n",
    "$ pip install memory_profiler\n",
    "Then we can use IPython to load the extension:"
   ]
  },
  {
   "cell_type": "code",
   "execution_count": null,
   "id": "0a1a62cb-76cb-4fca-9a13-776a4a3c46a9",
   "metadata": {},
   "outputs": [],
   "source": [
    "%load_ext memory_profiler"
   ]
  },
  {
   "cell_type": "markdown",
   "id": "42d71ed7-6b27-4353-b5e7-c8dbe204412e",
   "metadata": {},
   "source": [
    "The memory profiler extension contains two useful magic functions: the %memit magic (which offers a memory-measuring equivalent of %timeit) and the %mprun function (which offers a memory-measuring equivalent of %lprun). The %memit function can be used rather simply:"
   ]
  },
  {
   "cell_type": "code",
   "execution_count": null,
   "id": "71645e90-5e5f-48df-86d4-5724682e79e5",
   "metadata": {},
   "outputs": [],
   "source": [
    "%memit sum_of_lists(1000000)"
   ]
  },
  {
   "cell_type": "markdown",
   "id": "7a4c9cce-149e-4361-9f1c-796e7c66fd3e",
   "metadata": {},
   "source": [
    "peak memory: 100.08 MiB, increment: 61.36 MiB\n",
    "We see that this function uses about 100 MB of memory.\n",
    "\n",
    "For a line-by-line description of memory use, we can use the %mprun magic. Unfortunately, this magic works only for functions defined in separate modules rather than the notebook itself, so we'll start by using the %%file magic to create a simple module called mprun_demo.py, which contains our sum_of_lists function, with one addition that will make our memory profiling results more clear:"
   ]
  },
  {
   "cell_type": "code",
   "execution_count": null,
   "id": "8bda915b-8011-44a5-be99-0774853a99a7",
   "metadata": {},
   "outputs": [],
   "source": [
    "%%file mprun_demo.py\n",
    "def sum_of_lists(N):\n",
    "    total = 0\n",
    "    for i in range(5):\n",
    "        L = [j ^ (j >> i) for j in range(N)]\n",
    "        total += sum(L)\n",
    "        del L # remove reference to L\n",
    "    return total"
   ]
  },
  {
   "cell_type": "markdown",
   "id": "95f1ee1d-40eb-4f6e-94d1-30dc4216bc46",
   "metadata": {},
   "source": [
    "Overwriting mprun_demo.py\n",
    "We can now import the new version of this function and run the memory line profiler:"
   ]
  },
  {
   "cell_type": "code",
   "execution_count": null,
   "id": "05f722c8-8c3b-49a1-9d96-7a99b0848d59",
   "metadata": {},
   "outputs": [],
   "source": [
    "from mprun_demo import sum_of_lists\n",
    "%mprun -f sum_of_lists sum_of_lists(1000000)"
   ]
  },
  {
   "cell_type": "markdown",
   "id": "f7d29776-b1bc-4331-9ed5-48da8c933c93",
   "metadata": {},
   "source": [
    "The result, printed to the pager, gives us a summary of the memory use of the function, and looks something like this:\n",
    "\n",
    "Filename: ./mprun_demo.py\n",
    "\n",
    "Line #    Mem usage    Increment   Line Contents\n",
    "================================================\n",
    "     4     71.9 MiB      0.0 MiB           L = [j ^ (j >> i) for j in range(N)]\n",
    "\n",
    "\n",
    "Filename: ./mprun_demo.py\n",
    "\n",
    "Line #    Mem usage    Increment   Line Contents\n",
    "================================================\n",
    "     1     39.0 MiB      0.0 MiB   def sum_of_lists(N):\n",
    "     2     39.0 MiB      0.0 MiB       total = 0\n",
    "     3     46.5 MiB      7.5 MiB       for i in range(5):\n",
    "     4     71.9 MiB     25.4 MiB           L = [j ^ (j >> i) for j in range(N)]\n",
    "     5     71.9 MiB      0.0 MiB           total += sum(L)\n",
    "     6     46.5 MiB    -25.4 MiB           del L # remove reference to L\n",
    "     7     39.1 MiB     -7.4 MiB       return total\n",
    "Here the Increment column tells us how much each line affects the total memory budget: observe that when we create and delete the list L, we are adding about 25 MB of memory usage. This is on top of the background memory usage from the Python interpreter itself.\n",
    "\n",
    "For more information on %memit and %mprun, as well as their available options, use the IPython help functionality (i.e., type %memit? at the IPython prompt)."
   ]
  },
  {
   "cell_type": "code",
   "execution_count": null,
   "id": "d049a145-4eb6-4264-9218-2f6ab6c17333",
   "metadata": {},
   "outputs": [],
   "source": []
  }
 ],
 "metadata": {
  "kernelspec": {
   "display_name": "Python 3 (ipykernel)",
   "language": "python",
   "name": "python3"
  },
  "language_info": {
   "codemirror_mode": {
    "name": "ipython",
    "version": 3
   },
   "file_extension": ".py",
   "mimetype": "text/x-python",
   "name": "python",
   "nbconvert_exporter": "python",
   "pygments_lexer": "ipython3",
   "version": "3.12.4"
  }
 },
 "nbformat": 4,
 "nbformat_minor": 5
}
