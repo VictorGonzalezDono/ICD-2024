{
 "cells": [
  {
   "cell_type": "markdown",
   "id": "fd77ca29-7651-4094-92c7-2be4b33c56ff",
   "metadata": {},
   "source": [
    "## Input and Output History\n",
    "Previously we saw that the IPython shell allows you to access previous commands with the up and down arrow keys, or equivalently the Ctrl-p/Ctrl-n shortcuts. Additionally, in both the shell and the notebook, IPython exposes several ways to obtain the output of previous commands, as well as string versions of the commands themselves. We'll explore those here.\n",
    "\n",
    "## IPython's In and Out Objects\n",
    "By now I imagine you're quite familiar with the In [1]:/Out[1]: style prompts used by IPython. But it turns out that these are not just pretty decoration: they give a clue as to how you can access previous inputs and outputs in your current session. Imagine you start a session that looks like this:"
   ]
  },
  {
   "cell_type": "code",
   "execution_count": null,
   "id": "8e5c2208-3f42-4e50-a10d-d5dbbcedd33e",
   "metadata": {},
   "outputs": [],
   "source": [
    "In [1]: import math\n",
    "\n",
    "In [2]: math.sin(2)\n",
    "Out[2]: 0.9092974268256817\n",
    "\n",
    "In [3]: math.cos(2)\n",
    "Out[3]: -0.4161468365471424"
   ]
  },
  {
   "cell_type": "markdown",
   "id": "c8e6657d-7a7b-4790-b8dc-c958ca023c02",
   "metadata": {},
   "source": [
    "We've imported the built-in math package, then computed the sine and the cosine of the number 2. These inputs and outputs are displayed in the shell with In/Out labels, but there's more–IPython actually creates some Python variables called In and Out that are automatically updated to reflect this history:"
   ]
  },
  {
   "cell_type": "code",
   "execution_count": null,
   "id": "fb5831ad-a717-42b3-b1f6-a5c526078c24",
   "metadata": {},
   "outputs": [],
   "source": [
    "In [4]: print(In)\n",
    "['', 'import math', 'math.sin(2)', 'math.cos(2)', 'print(In)']\n",
    "\n",
    "In [5]: Out\n",
    "Out[5]: {2: 0.9092974268256817, 3: -0.4161468365471424}"
   ]
  },
  {
   "cell_type": "markdown",
   "id": "3bb03e63-4fc9-427c-8c6a-1e019dce87c9",
   "metadata": {},
   "source": [
    "The In object is a list, which keeps track of the commands in order (the first item in the list is a place-holder so that In[1] can refer to the first command):"
   ]
  },
  {
   "cell_type": "code",
   "execution_count": null,
   "id": "b28c226b-0679-456f-95e0-00a958fb7ddc",
   "metadata": {},
   "outputs": [],
   "source": [
    "In [6]: print(In[1])\n",
    "import math\n",
    "\n",
    "The Out object is not a list but a dictionary mapping input numbers to their outputs (if any):\n",
    "\n",
    "In [7]: print(Out[2])\n",
    "0.9092974268256817"
   ]
  },
  {
   "cell_type": "markdown",
   "id": "8e2977fd-e7e0-4b31-bdf5-90330b9a9d27",
   "metadata": {},
   "source": [
    "Note that not all operations have outputs: for example, import statements and print statements don't affect the output. The latter may be surprising, but makes sense if you consider that print is a function that returns None; for brevity, any command that returns None is not added to Out.\n",
    "\n",
    "Where this can be useful is if you want to interact with past results. For example, let's check the sum of sin(2) ** 2 and cos(2) ** 2 using the previously-computed results:"
   ]
  },
  {
   "cell_type": "code",
   "execution_count": null,
   "id": "bd7f5e22-ffbc-40a2-8713-f2aad2c16969",
   "metadata": {},
   "outputs": [],
   "source": [
    "In [8]: Out[2] ** 2 + Out[3] ** 2\n",
    "Out[8]: 1.0"
   ]
  },
  {
   "cell_type": "markdown",
   "id": "b9fb1d4d-ce77-45d3-ac54-820f727bca52",
   "metadata": {},
   "source": [
    "The result is 1.0 as we'd expect from the well-known trigonometric identity. In this case, using these previous results probably is not necessary, but it can become very handy if you execute a very expensive computation and want to reuse the result!\n",
    "\n",
    "## Underscore Shortcuts and Previous Outputs\n",
    "The standard Python shell contains just one simple shortcut for accessing previous output; the variable _ (i.e., a single underscore) is kept updated with the previous output; this works in IPython as well:"
   ]
  },
  {
   "cell_type": "code",
   "execution_count": null,
   "id": "650dc1e0-b3a3-41cf-9831-256850255c52",
   "metadata": {},
   "outputs": [],
   "source": [
    "In [9]: print(_)\n",
    "1.0"
   ]
  },
  {
   "cell_type": "markdown",
   "id": "88e945fd-9723-44f8-857a-40673f5d4414",
   "metadata": {},
   "source": [
    "But IPython takes this a bit further—you can use a double underscore to access the second-to-last output, and a triple underscore to access the third-to-last output (skipping any commands with no output):"
   ]
  },
  {
   "cell_type": "code",
   "execution_count": null,
   "id": "d777b676-95d7-4534-9490-bd964d720079",
   "metadata": {},
   "outputs": [],
   "source": [
    "In [10]: print(__)\n",
    "-0.4161468365471424\n",
    "\n",
    "In [11]: print(___)\n",
    "0.9092974268256817"
   ]
  },
  {
   "cell_type": "markdown",
   "id": "170ce128-d024-47ad-b2e1-8f96eaad4c3b",
   "metadata": {},
   "source": [
    "IPython stops there: more than three underscores starts to get a bit hard to count, and at that point it's easier to refer to the output by line number.\r\n",
    "\r\n",
    "There is one more shortcut we should mention, however–a shorthand for Out[X] is _X (i.e., a single underscore followed by the line number):"
   ]
  },
  {
   "cell_type": "code",
   "execution_count": null,
   "id": "2d58cf3e-54e4-400a-8970-98f2e40ca234",
   "metadata": {},
   "outputs": [],
   "source": [
    "In [12]: Out[2]\n",
    "Out[12]: 0.9092974268256817\n",
    "\n",
    "In [13]: _2\n",
    "Out[13]: 0.9092974268256817"
   ]
  },
  {
   "cell_type": "markdown",
   "id": "34e6e8b2-cfd2-4869-b383-10c37a169a26",
   "metadata": {},
   "source": [
    "## Suppressing Output\n",
    "Sometimes you might wish to suppress the output of a statement (this is perhaps most common with the plotting commands that we'll explore in Introduction to Matplotlib). Or maybe the command you're executing produces a result that you'd prefer not like to store in your output history, perhaps so that it can be deallocated when other references are removed. The easiest way to suppress the output of a command is to add a semicolon to the end of the line:"
   ]
  },
  {
   "cell_type": "code",
   "execution_count": null,
   "id": "82ec05be-95de-48ac-b391-b4782a601b66",
   "metadata": {},
   "outputs": [],
   "source": [
    "In [14]: math.sin(2) + math.cos(2);\n",
    "Note that the result is computed silently, and the output is neither displayed on the screen or stored in the Out dictionary:\n",
    "\n",
    "In [15]: 14 in Out\n",
    "Out[15]: False"
   ]
  },
  {
   "cell_type": "markdown",
   "id": "eb1416b9-c92c-4b6a-b24e-d84facac5257",
   "metadata": {},
   "source": [
    "Related Magic Commands\n",
    "For accessing a batch of previous inputs at once, the %history magic command is very helpful. Here is how you can print the first four inputs:"
   ]
  },
  {
   "cell_type": "code",
   "execution_count": null,
   "id": "593cb8fb-aa08-417a-a898-d5fcdb17ae44",
   "metadata": {},
   "outputs": [],
   "source": [
    "In [16]: %history -n 1-4\n",
    "   1: import math\n",
    "   2: math.sin(2)\n",
    "   3: math.cos(2)\n",
    "   4: print(In)"
   ]
  },
  {
   "cell_type": "markdown",
   "id": "f4e537fd-c2fe-4a38-903c-c8ed01d3ebdf",
   "metadata": {},
   "source": [
    "As usual, you can type %history? for more information and a description of options available. Other similar magic commands are %rerun (which will re-execute some portion of the command history) and %save (which saves some set of the command history to a file). For more information, I suggest exploring these using the ? help functionality discussed in Help and Documentation in IPython."
   ]
  },
  {
   "cell_type": "code",
   "execution_count": null,
   "id": "de5e994f-c699-4b56-a626-50d1f3190de1",
   "metadata": {},
   "outputs": [],
   "source": []
  }
 ],
 "metadata": {
  "kernelspec": {
   "display_name": "Python 3 (ipykernel)",
   "language": "python",
   "name": "python3"
  },
  "language_info": {
   "codemirror_mode": {
    "name": "ipython",
    "version": 3
   },
   "file_extension": ".py",
   "mimetype": "text/x-python",
   "name": "python",
   "nbconvert_exporter": "python",
   "pygments_lexer": "ipython3",
   "version": "3.12.4"
  }
 },
 "nbformat": 4,
 "nbformat_minor": 5
}
