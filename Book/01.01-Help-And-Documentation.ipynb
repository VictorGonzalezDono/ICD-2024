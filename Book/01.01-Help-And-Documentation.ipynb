{
 "cells": [
  {
   "cell_type": "markdown",
   "id": "49b28b1a-b4df-414d-9fa1-5d8c200fadb6",
   "metadata": {},
   "source": [
    "# Help and Documentation in IPython\r\n",
    "If you read no other section in this chapter, read this one: I find the tools discussed here to be the most transformative contributions of IPython to my daily workflow.\r\n",
    "\r\n",
    "When a technologically-minded person is asked to help a friend, family member, or colleague with a computer problem, most of the time it's less a matter of knowing the answer as much as knowing how to quickly find an unknown answer. In data science it's the same: searchable web resources such as online documentation, mailing-list threads, and StackOverflow answers contain a wealth of information, even (especially?) if it is a topic you've found yourself searching before. Being an effective practitioner of data science is less about memorizing the tool or command you should use for every possible situation, and more about learning to effectively find the information you don't know, whether through a web search engine or another means.\r\n",
    "\r\n",
    "One of the most useful functions of IPython/Jupyter is to shorten the gap between the user and the type of documentation and search that will help them do their work effectively. While web searches still play a role in answering complicated questions, an amazing amount of information can be found through IPython alone. Some examples of the questions IPython can help answer in a few keystrokes:\r\n",
    "\r\n",
    "How do I call this function? What arguments and options does it have?\r\n",
    "What does the source code of this Python object look like?\r\n",
    "What is in this package I imported? What attributes or methods does this object have?\r\n",
    "Here we'll discuss IPython's tools to quickly access this information, namely the ? character to explore documentation, the ?? characters to explore source code, and the Tab key for auto-cohe following:"
   ]
  },
  {
   "cell_type": "markdown",
   "id": "9f70a4b9-6931-4a81-8c91-6a6d298946a8",
   "metadata": {},
   "source": [
    "\n",
    "## Accessing Documentation with ?\n",
    "The Python language and its data science ecosystem is built with the user in mind, and one big part of that is access to documentation. Every Python object contains the reference to a string, known as a doc string, which in most cases will contain a concise summary of the object and how to use it. Python has a built-in help() function that can access this information and prints the results. For example, to see the documentation of the built-in len function, you can do the following:"
   ]
  },
  {
   "cell_type": "code",
   "execution_count": null,
   "id": "cacc8a7e-fc22-43ae-b760-529a45591444",
   "metadata": {},
   "outputs": [],
   "source": [
    "In [1]: help(len)\n",
    "Help on built-in function len in module builtins:\n",
    "\n",
    "len(...)\n",
    "    len(object) -> integer\n",
    "    \n",
    "    Return the number of items of a sequence or mapping."
   ]
  },
  {
   "cell_type": "markdown",
   "id": "718833ed-bbc1-4710-8393-aa4d013b41b2",
   "metadata": {},
   "source": [
    "Depending on your interpreter, this information may be displayed as inline text, or in some separate pop-up window.\n",
    "\n",
    "Because finding help on an object is so common and useful, IPython introduces the ? character as a shorthand for accessing this documentation and other relevant information:"
   ]
  },
  {
   "cell_type": "code",
   "execution_count": null,
   "id": "75cf0101-d0c7-4e76-9ed8-0abc50e1c556",
   "metadata": {},
   "outputs": [],
   "source": [
    "In [2]: len?\n",
    "Type:        builtin_function_or_method\n",
    "String form: <built-in function len>\n",
    "Namespace:   Python builtin\n",
    "Docstring:\n",
    "len(object) -> integer\n",
    "\n",
    "Return the number of items of a sequence or mapping."
   ]
  },
  {
   "cell_type": "markdown",
   "id": "359407f6-27b8-4b0b-ae25-8f52d93a3311",
   "metadata": {},
   "source": [
    "Importantly, this will even work for functions or other objects you create yourself! Here we'll define a small function with a docstring:"
   ]
  },
  {
   "cell_type": "code",
   "execution_count": null,
   "id": "847c8754-de2f-45e0-a294-fc1e74b766f8",
   "metadata": {},
   "outputs": [],
   "source": [
    "In [6]: def square(a):\n",
    "  ....:     \"\"\"Return the square of a.\"\"\"\n",
    "  ....:     return a ** 2\n",
    "  ....:"
   ]
  },
  {
   "cell_type": "markdown",
   "id": "2ab3a3f6-65af-4390-8fe1-bb3b849b846a",
   "metadata": {},
   "source": [
    "Note that to create a docstring for our function, we simply placed a string literal in the first line. Because doc strings are usually multiple lines, by convention we used Python's triple-quote notation for multi-line strings.\n",
    "\n",
    "Now we'll use the ? mark to find this doc string:"
   ]
  },
  {
   "cell_type": "code",
   "execution_count": null,
   "id": "4a8eb14e-f7b6-4fc6-aaf1-e808721ff019",
   "metadata": {},
   "outputs": [],
   "source": [
    "In [7]: square?\n",
    "Type:        function\n",
    "String form: <function square at 0x103713cb0>\n",
    "Definition:  square(a)\n",
    "Docstring:   Return the square of a."
   ]
  },
  {
   "cell_type": "markdown",
   "id": "8d5dd33c-af8c-486a-94bd-1c5f7de1e484",
   "metadata": {},
   "source": [
    "This quick access to documentation via docstrings is one reason you should get in the habit of always adding such inline documentation to the code you write!\n",
    "\n",
    "# Accessing Source Code with ??\n",
    "Because the Python language is so easily readable, another level of insight can usually be gained by reading the source code of the object you're curious about. IPython provides a shortcut to the source code with the double question mark (??):?):"
   ]
  },
  {
   "cell_type": "code",
   "execution_count": null,
   "id": "01e7e4b7-0264-4ea0-911e-f8b2f19bf06e",
   "metadata": {},
   "outputs": [],
   "source": [
    "In [8]: square??\n",
    "Type:        function\n",
    "String form: <function square at 0x103713cb0>\n",
    "Definition:  square(a)\n",
    "Source:\n",
    "def square(a):\n",
    "    \"Return the square of a\"\n",
    "    return a ** 2"
   ]
  },
  {
   "cell_type": "markdown",
   "id": "bd0ea6ba-7b04-43f6-adc3-f9d4d9114656",
   "metadata": {},
   "source": [
    "For simple functions like this, the double question-mark can give quick insight into the under-the-hood details.\n",
    "\n",
    "If you play with this much, you'll notice that sometimes the ?? suffix doesn't display any source code: this is generally because the object in question is not implemented in Python, but in C or some other compiled extension language. If this is the case, the ?? suffix gives the same output as the ? suffix. You'll find this particularly with many of Python's built-in objects and types, for example len from above:"
   ]
  },
  {
   "cell_type": "code",
   "execution_count": null,
   "id": "f785d187-902e-4300-a0ae-2ea55a140876",
   "metadata": {},
   "outputs": [],
   "source": [
    "In [9]: len??\n",
    "Type:        builtin_function_or_method\n",
    "String form: <built-in function len>\n",
    "Namespace:   Python builtin\n",
    "Docstring:\n",
    "len(object) -> integer\n",
    "\n",
    "Return the number of items of a sequence or mapping."
   ]
  },
  {
   "cell_type": "markdown",
   "id": "de381b80-2666-4e06-b0c0-e355bfc81f1b",
   "metadata": {},
   "source": [
    "Using ? and/or ?? gives a powerful and quick interface for finding information about what any Python function or module does.\n",
    "\n",
    "## Exploring Modules with Tab-Completion\n",
    "IPython's other useful interface is the use of the tab key for auto-completion and exploration of the contents of objects, modules, and name-spaces. In the examples that follow, we'll use <TAB> to indicate when the Tab key should be pressed.\n",
    "\n",
    "## Tab-completion of object contents\n",
    "Every Python object has various attributes and methods associated with it. Like with the help function discussed before, Python has a built-in dir function that returns a list of these, but the tab-completion interface is much easier to use in practice. To see a list of all available attributes of an object, you can type the name of the object followed by a period (\".\") character and the Tab key:"
   ]
  },
  {
   "cell_type": "code",
   "execution_count": null,
   "id": "0e0412cc-07ea-433c-9ba4-0f4cf1089557",
   "metadata": {},
   "outputs": [],
   "source": [
    "In [10]: L.<TAB>\n",
    "L.append   L.copy     L.extend   L.insert   L.remove   L.sort     \n",
    "L.clear    L.count    L.index    L.pop      L.reverse"
   ]
  },
  {
   "cell_type": "markdown",
   "id": "d61fc41b-fa7f-4566-a777-6aa25a0f295f",
   "metadata": {},
   "source": [
    "To narrow-down the list, you can type the first character or several characters of the name, and the Tab key will find the matching attributes and methods:"
   ]
  },
  {
   "cell_type": "code",
   "execution_count": null,
   "id": "cdf11a9a-bf15-4d36-b9c3-55c6f822c6e4",
   "metadata": {},
   "outputs": [],
   "source": [
    "In [10]: L.c<TAB>\n",
    "L.clear  L.copy   L.count  \n",
    "\n",
    "In [10]: L.co<TAB>\n",
    "L.copy   L.count"
   ]
  },
  {
   "cell_type": "markdown",
   "id": "3cb2906b-92d7-405a-a9ed-ec35477e1880",
   "metadata": {},
   "source": [
    "If there is only a single option, pressing the Tab key will complete the line for you. For example, the following will instantly be replaced with L.count:"
   ]
  },
  {
   "cell_type": "code",
   "execution_count": null,
   "id": "d67b160f-7a0f-4fc8-b422-8941f8310cb7",
   "metadata": {},
   "outputs": [],
   "source": [
    "In [10]: L.cou<TAB>"
   ]
  },
  {
   "cell_type": "markdown",
   "id": "e8cb792b-5aac-4fad-964f-9e5d0e12d49d",
   "metadata": {},
   "source": [
    "Though Python has no strictly-enforced distinction between public/external attributes and private/internal attributes, by convention a preceding underscore is used to denote such methods. For clarity, these private methods and special methods are omitted from the list by default, but it's possible to list them by explicitly typing the underscore:"
   ]
  },
  {
   "cell_type": "code",
   "execution_count": null,
   "id": "c6b325f4-7cf8-49df-a0b4-0f3ab31825d2",
   "metadata": {},
   "outputs": [],
   "source": [
    "In [10]: L._<TAB>\n",
    "L.__add__           L.__gt__            L.__reduce__\n",
    "L.__class__         L.__hash__          L.__reduce_ex__"
   ]
  },
  {
   "cell_type": "markdown",
   "id": "c26b23e5-d864-4409-8232-d51b305f99e4",
   "metadata": {},
   "source": [
    "For brevity, we've only shown the first couple lines of the output. Most of these are Python's special double-underscore methods (often nicknamed \"dunder\" methods).\n",
    "\n",
    "## Tab completion when importing\n",
    "Tab completion is also useful when importing objects from packages. Here we'll use it to find all possible imports in the itertools package that start with co:\n",
    "\n",
    "In [10]: from itertools import co<TAB>\n",
    "combinations                   compress\n",
    "combinations_with_replacement  count\n",
    "Similarly, you can use tab-completion to see which imports are available on your system (this will change depending on which third-party scripts and modules are visible to your Python session):\n",
    "\n",
    "In [10]: import <TAB>\n",
    "Display all 399 possibilities? (y or n)\n",
    "Crypto              dis                 py_compile\n",
    "Cython              distutils           pyclbr\n",
    "...                 ...                 ...\n",
    "difflib             pwd                 zmq\n",
    "\n",
    "In [10]: import h<TAB>\n",
    "hashlib             hmac                http         \n",
    "heapq               html                husl         \n",
    "(Note that for brevity, I did not print here all 399 importable packages and modules on my system.)\n",
    "\n",
    "## Beyond tab completion: wildcard matching\n",
    "Tab completion is useful if you know the first few characters of the object or attribute you're looking for, but is little help if you'd like to match characters at the middle or end of the word. For this use-case, IPython provides a means of wildcard matching for names using the * character.\n",
    "\n",
    "For example, we can use this to list every object in the namespace that ends with Warning:"
   ]
  },
  {
   "cell_type": "markdown",
   "id": "38069a88-261c-40c1-b757-c155d646765f",
   "metadata": {},
   "source": [
    "In [10]: *Warning?\n",
    "BytesWarning                  RuntimeWarning\n",
    "DeprecationWarning            SyntaxWarning\n",
    "FutureWarning                 UnicodeWarning\n",
    "ImportWarning                 UserWarning\n",
    "PendingDeprecationWarning     Warning\n",
    "ResourceWarning\n",
    "Notice that the * character matches any string, including the empty string.\n",
    "\n",
    "Similarly, suppose we are looking for a string method that contains the word find somewhere in its name. We can search for it this way:\n",
    "\n",
    "In [10]: str.*find*?\n",
    "str.find\n",
    "str.rfind\n",
    "I find this type of flexible wildcard search can be very useful for finding a particular command when getting to know a new package or reacquainting myself with a familiar one."
   ]
  },
  {
   "cell_type": "code",
   "execution_count": null,
   "id": "838191e4-86a5-49a6-ae0a-e9bc04fb14a1",
   "metadata": {},
   "outputs": [],
   "source": []
  }
 ],
 "metadata": {
  "kernelspec": {
   "display_name": "Python 3 (ipykernel)",
   "language": "python",
   "name": "python3"
  },
  "language_info": {
   "codemirror_mode": {
    "name": "ipython",
    "version": 3
   },
   "file_extension": ".py",
   "mimetype": "text/x-python",
   "name": "python",
   "nbconvert_exporter": "python",
   "pygments_lexer": "ipython3",
   "version": "3.12.4"
  }
 },
 "nbformat": 4,
 "nbformat_minor": 5
}
